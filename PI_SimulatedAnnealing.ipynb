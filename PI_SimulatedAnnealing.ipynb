{
 "cells": [
  {
   "cell_type": "markdown",
   "metadata": {},
   "source": [
    "# Probabilistic Inversion: Simulated annealing"
   ]
  },
  {
   "cell_type": "markdown",
   "metadata": {},
   "source": [
    "This notebook shows a technique for finding the maximum likely point of a multi-modal function while sampling it. Our function is a probability density function (pdf) and the method used is called simulated annealing, a Markov Chain Monte Carlo method (MCMC). \n",
    "\n",
    "This method is inspired by the annealing process in solid state physics. Annealing is a physical process of heating a solid until thermal stresses are released, then cooling it very slowly until the crystals are perfectly arranged, acheiving a minimum energy state. Depending on how fast or slow the temperature is cooled, the results will have worse or better the quality. \n",
    "\n",
    "The simulation of this process is known as Simualted Annealing. It is a mathematical analogy which can be used to sample highly nonlinear functions, multidimensional functions. The analogy of the slow temperature cooling is the decrese on the probablitiy of accepting worse solutions as the space is explored; instead, the probability for going to a better solution is kept to 1. At high temperatures the system is allowed to explore the whole space, and at low temperatures exist a restriction in the exploration. The decrease of the temperature has to be done carefully, due to the aim is to find the global minimum state of energy. If it is done too fast you can obtain a secondary minima, and if it is too slow you will waste a lot of forward calculations.  "
   ]
  },
  {
   "cell_type": "markdown",
   "metadata": {},
   "source": [
    "This analogy between the physical process of annealing and the mathematical problem of obtaining a global minimum of a function allow us to finding the maximum likelihood point. \n",
    "\n",
    "First we will define an energy function: \n",
    "\\begin{equation}\n",
    "S(m) = - T_0 log\\frac{\\sigma_M(m)}{\\rho_M(m)}\n",
    "\\end{equation}\n",
    "where $m$ is refered to the coordinates in the space, $T_0$ is a fixed positive number termed the ambient temperature (e.g. $T=1$), $\\sigma_M(m)$ is the designed function and $\\rho_M(m)$ is a parameter. \n",
    "We obtain the probability density function as a function of the temperature of the system\n",
    "\\begin{equation}\n",
    "\\sigma_M(m,T)=\\rho_M(m) exp \\bigg( -\\frac{S(m)}{T} \\bigg) = \\rho_M(m) exp \\bigg( -\\frac{-T_0 log\\frac{\\sigma_M(m)} {\\rho_M(m)}}{T} \\bigg)\n",
    "\\end{equation}\n"
   ]
  },
  {
   "cell_type": "code",
   "execution_count": null,
   "metadata": {
    "code_folding": []
   },
   "outputs": [],
   "source": [
    "# Import Libraries (PLEASE RUN THIS CODE FIRST!) \n",
    "# ----------------------------------------------\n",
    "import numpy as np\n",
    "import matplotlib\n",
    "## Show Plot in The Notebook\n",
    "matplotlib.use('nbagg')\n",
    "import matplotlib.pyplot as plt\n",
    "from IPython import display\n",
    "\n",
    "\n",
    "from mpl_toolkits.mplot3d import Axes3D"
   ]
  },
  {
   "cell_type": "markdown",
   "metadata": {},
   "source": [
    "**PARAMETER CONFIGURATION**\n",
    "\n",
    "The above expression helps us to understand the relationship between our pdf and the temperature. For this notebook is considered that $\\rho_M(m) = 1$ and $T_0 = 1$, with the expresion beeing\n",
    "\\begin{equation}\n",
    "\\sigma_M(m,T)= exp \\bigg( -\\frac{-log(\\sigma_M(m))}{T} \\bigg)\n",
    "\\end{equation}\n",
    "\n"
   ]
  },
  {
   "cell_type": "code",
   "execution_count": null,
   "metadata": {
    "code_folding": [
     0
    ]
   },
   "outputs": [],
   "source": [
    "# Parameter Configuration\n",
    "# ----------------------\n",
    "\n",
    "# Some global parameters\n",
    "\n",
    "npp = 1000000  #number of tries to take\n",
    "ns = 100   # number of samples to keep \n",
    "T0 = 1.\n",
    "T = T0\n",
    "alpha = 0.99999 #cooling schedule\n",
    "\n",
    "rho = 1 # manteining it constant\n",
    "rho0 = 1 # mantening it constant\n",
    "Tplots = 10 # inicial temperature for the plots\n",
    "stepT = 4 #how many steps should the Temperature be *0.1 evolved"
   ]
  },
  {
   "cell_type": "markdown",
   "metadata": {},
   "source": [
    "**GENERATION OF THE PDF**\n",
    "\n",
    "Monte Carlo sampling of a probability density function, in this case for the purpose of the notebook it is used the absolute value of the  function \"peaks\" from Matlab in each point. The corresponding section can simply be replaced with the probability from a proper inverse problem (e.g. hypocenter location). This function has the following expression\n",
    "\n",
    "\\begin{equation}\n",
    "\\sigma_M(m) = \\sigma(x,y) = | 3(1-x)^2 e^{-x^2-(y+1)^2}-10 \\big( \\frac{x}{5} -x^3-y^5\\big) e^{-x^2-y^2} - \\frac{1}{3} e^{-(x+1)^2-y^2} |\n",
    "\\end{equation}\n"
   ]
  },
  {
   "cell_type": "code",
   "execution_count": null,
   "metadata": {
    "code_folding": [
     0
    ]
   },
   "outputs": [],
   "source": [
    "# Generate a pdf\n",
    "\n",
    "# the following steps generate a pdf; this is equivalent to the function \"peaks(n)\" in matlab\n",
    "n = 100 # number of dimension\n",
    "pdf = np.zeros([n,n])\n",
    "sigma = np.zeros([n,n])\n",
    "s = np.zeros([n,n])\n",
    "x = -3.\n",
    "for i in range(0,n):\n",
    "    y = -3.\n",
    "    for j in range(0,n):\n",
    "        pdf[j,i]=3.*(1-x)**2*np.exp(-(x**2)-(y+1)**2)-10.*(x/5-x**3-y**5)*np.exp(-x**2-y**2)-1./3*np.exp(-(x+1)**2-y**2)\n",
    "        if pdf[j,i] < 0:\n",
    "            pdf[j,i] = pdf[j,i] * (-1) # in contrast to the peaks function: all negative values are multiplied by (-1)\n",
    "        y = y + 6./(n-1)\n",
    "    x = x + 6./(n-1)\n",
    "\n",
    "pdf = pdf / pdf.max()\n",
    "s  = -T0*np.log(pdf/rho0) "
   ]
  },
  {
   "cell_type": "code",
   "execution_count": null,
   "metadata": {
    "code_folding": [
     0
    ]
   },
   "outputs": [],
   "source": [
    "# Plot the 3D plot of pdf\n",
    "# --------------------------\n",
    "\n",
    "X = np.arange(0,100 + 100./(n-1), 100./(n-1))\n",
    "Y = np.arange(0,100 + 100./(n-1), 100./(n-1))\n",
    "fig0 = plt.figure()\n",
    "ax = fig0.gca(projection='3d')\n",
    "X, Y = np.meshgrid(X, Y)\n",
    "surf = ax.plot_surface(Y, X, pdf,rstride=2, cstride=2, cmap=plt.cm.coolwarm, linewidth=0.1)\n",
    "plt.gca().invert_xaxis()\n",
    "plt.show()"
   ]
  },
  {
   "cell_type": "markdown",
   "metadata": {},
   "source": [
    "**The Energy function**\n",
    "\n",
    "It gives the distribution of energy in our pdf."
   ]
  },
  {
   "cell_type": "code",
   "execution_count": null,
   "metadata": {
    "code_folding": [
     0
    ]
   },
   "outputs": [],
   "source": [
    "# Plot the 3D plot of Energy function\n",
    "# --------------------------\n",
    "\n",
    "X = np.arange(0,100 + 100./(n-1), 100./(n-1))\n",
    "Y = np.arange(0,100 + 100./(n-1), 100./(n-1))\n",
    "fig0 = plt.figure()\n",
    "ax = fig0.gca(projection='3d')\n",
    "X, Y = np.meshgrid(X, Y)\n",
    "surf = ax.plot_surface(Y, X, s/s.max(),rstride=2, cstride=2, cmap=plt.cm.coolwarm, linewidth=0.1)\n",
    "plt.gca().invert_xaxis()\n",
    "plt.show()"
   ]
  },
  {
   "cell_type": "markdown",
   "metadata": {},
   "source": [
    "**THE HEAT BATH**\n",
    "\n",
    "For understanding how the temperature interacts with the probability distribution function, the notebook plots where $\\sigma_M(m,T)$ is allowed to go in a given temperature. Each line represents an increase of factor of 10 of the temperature, starting with a hihg temperature of $T=10$, and finishing with $T=0.01$. Finally the ones in the middle are the \"Heat bath graphs\", in which varies their values in the space vary with each temperature. "
   ]
  },
  {
   "cell_type": "code",
   "execution_count": null,
   "metadata": {},
   "outputs": [],
   "source": [
    "#The heat bath \n",
    "a = 1\n",
    "fig0 = plt.figure(figsize=(10,8))\n",
    "for i in range(0,stepT): \n",
    "    sigma = rho * np.exp(-(s)/Tplots) \n",
    "    sigma= sigma / sigma.max()\n",
    "    \n",
    "    if Tplots < 1: \n",
    "        temp='$T = $'+str(Tplots)+'\\n'\n",
    "    else: \n",
    "        temp= '$T = $'+str(int(Tplots))+'\\n'\n",
    "    \n",
    "    Tplots = Tplots * 0.1\n",
    "    b = 0\n",
    "    X = np.arange(0,100 + 100./(n-1), 100./(n-1))\n",
    "    Y = np.arange(0,100 + 100./(n-1), 100./(n-1))\n",
    "    ax = fig0.add_subplot(2, 2, a, projection='3d')\n",
    "    X, Y = np.meshgrid(X, Y)\n",
    "    ax.set_title(temp)\n",
    "    ax.plot_surface(Y, X, sigma,rstride=2, cstride=2, cmap=plt.cm.coolwarm, linewidth=0, antialiased=False)\n",
    "    plt.gca().invert_xaxis()\n",
    "    a += 1\n",
    "    plt.subplots_adjust(top=0.92, bottom=0.08, left=0.10, right=0.90, hspace=0.5, wspace=0.15)\n",
    "\n",
    "plt.show()"
   ]
  },
  {
   "cell_type": "markdown",
   "metadata": {},
   "source": [
    "** SIMULATED ANNEALING: The algorithm **\n",
    "\n",
    "Now that we saw how the temperature affects to the pdf we can develop the algorithm. The therminology will be the folowing: \n",
    "\n",
    "   – $X$ is the random vector, or the configuration.\n",
    "\n",
    "   – $S_m$ is the system energy, the function value. \n",
    "\n",
    "   – $T$ is the system temperature.\n",
    "    \n",
    "   – $\\Delta S$ is the difference in system energy between two steps ($\\Delta S= S_m(X_{i+1}) - S_m (X_i)$). \n",
    "    \n",
    "\n",
    "At each iteration on the temperature the program creates a $X_{i}$ and evaluates the point using the simulation model (pdf), finding an associated system energy. This move has to be accepted or not with respect to the previous one. \n",
    "  * if $S= S_m(X_{i+1}) < S_m (X_i)$ $\\rightarrow$ accept $X_{i+1}$ as the new model (current_model =  new_model)\n",
    "  * if $S= S_m(X_{i+1}) \\geqslant S_m (X_i)$ $\\rightarrow$ accept $X_{i+1}$ as the new model with probability $S =  exp (-\\frac{\\Delta S}{T})$ with $T = \\alpha T$\n",
    "  \n",
    "beeing $\\alpha$ the cooling schedule. \n",
    "\n",
    "At the end, the system will have reduced the temperature, according to the cooling choosen, towards 0. "
   ]
  },
  {
   "cell_type": "code",
   "execution_count": null,
   "metadata": {
    "code_folding": [
     0
    ]
   },
   "outputs": [],
   "source": [
    "# Simulated annealing and ploting the steps\n",
    "\n",
    "# find an initial vector x\n",
    "xcur = np.array([np.floor(np.random.uniform(0, 100)), np.floor(np.random.uniform(0, 100))])\n",
    "\n",
    "# Let s get moving\n",
    "iis = 0\n",
    "npp = 0\n",
    "xa = np.array([])\n",
    "xa = np.hstack((xa, np.array([xcur[0],xcur[1]])))\n",
    "\n",
    "## Ploting the steps (initializing the graph)\n",
    "fig = plt.figure()\n",
    "f1 = fig.add_subplot(111)  \n",
    "f1.imshow(pdf.transpose(),aspect='auto',interpolation='none', animated=True)\n",
    "f1.set_xlim(0,99)\n",
    "f1.set_ylim(99,0)\n",
    "f1.set_title('Simulated annealing steps')\n",
    "plt.ion() #set interactive mode\n",
    "plt.show()\n",
    "\n",
    "Pa = np.zeros(ns+1)\n",
    "xnew = np.array([0.,0.])\n",
    "\n",
    "Pa = [0]\n",
    "while iis < ns: \n",
    "    npp = npp+1\n",
    "    #make a random choice for the next move\n",
    "    xnew = np.array([np.floor(np.random.uniform(0, 100)), np.floor(np.random.uniform(0, 100))])\n",
    "    #compare probabilities\n",
    "    Pcur = pdf[int(xcur[0]), int(xcur[1])]\n",
    "    Pnew = pdf[int(xnew[0]), int(xnew[1])]\n",
    "    \n",
    "    T = alpha * T\n",
    "    if Pnew >= Pcur:\n",
    "        xcur = xnew\n",
    "       # print ' Made the %i-th move to [%i,%i] ' %(iis+1, xcur[0], xcur[1])\n",
    "        # display move graphically   \n",
    "        f1.plot(xnew[0],xnew[1],'w+') #plot the steps with black +\n",
    "        plt.gcf().canvas.draw() #show the update\n",
    "        iis = iis + 1\n",
    "    \n",
    "    if Pnew < Pcur: \n",
    "        deltaP = Pcur - Pnew\n",
    "        P = np.exp(-1. * deltaP / T)\n",
    "        test = np.random.uniform(0,1)\n",
    "        if test <= P: \n",
    "            xcur = xnew\n",
    "            #print ' Made the %i-th move to [%i,%i] P= %g ' %(iis+1,xcur[0],xcur[1],P)\n",
    "            # display move graphically\n",
    "            f1.plot(xnew[0],xnew[1],'w+') # plot the steps with black +\n",
    "            plt.gcf().canvas.draw()  #show the update\n",
    "            iis = iis + 1\n",
    "   \n",
    "    xa = np.vstack((xa, np.array([xcur[0],xcur[1]])))\n",
    "    Pa.append(Pnew)\n",
    "    \n",
    "plt.gcf().canvas.draw()\n",
    "npp = npp + 1\n",
    "Pa = np.array(Pa)"
   ]
  },
  {
   "cell_type": "markdown",
   "metadata": {},
   "source": [
    "**FINAL SAMPLING **\n",
    "\n",
    "To show how the program has proceded it is shown all the places where the program has gone in the sampling space, and the the maximum probability point found. Also, it is ploted as function of the iterations the best model and the current model. "
   ]
  },
  {
   "cell_type": "code",
   "execution_count": null,
   "metadata": {
    "code_folding": [
     0
    ]
   },
   "outputs": [],
   "source": [
    "# Final sampling\n",
    "\n",
    "#get max of Pa and the index for the best model\n",
    "y = Pa.max()\n",
    "for i in range(0,npp):\n",
    "    if Pa[i] == y:\n",
    "        maxi = i\n",
    "\n",
    "#Ploting the results\n",
    "fig2 = plt.figure(figsize=(10,5))\n",
    "\n",
    "#First graph\n",
    "f1 = fig2.add_subplot(121)\n",
    "f1.imshow(pdf.transpose(),aspect='auto', extent=[0,100,100,0],interpolation='none')\n",
    "f1.plot(xa[:,0],xa[:,1],'w+') #Plot the steps with white +\n",
    "f1.plot(xa[maxi,0],xa[maxi,1],'wo') #Maximum value acchieved ploted wiht the white cirlce\n",
    "f1.set_ylabel('y')\n",
    "f1.set_xlabel('x')\n",
    "\n",
    "#Second graph\n",
    "f2 = fig2.add_subplot(122)\n",
    "# Show as a function of the iterations \n",
    "# 1. the best model\n",
    "# 2. the current model\n",
    "best = np.zeros(npp)\n",
    "for i in range(0,npp):\n",
    "    a = Pa[0]\n",
    "    for j in range(0,i+1):\n",
    "        if Pa[j] > a:\n",
    "            a = Pa[j]\n",
    "    best[i] = a\n",
    "\n",
    "f2.plot(range(0,npp),best,'r-', label='Best model')\n",
    "f2.plot(range(0,npp),Pa,'b-', label='Current model')\n",
    "f2.set_xlabel('# of points visited')\n",
    "f2.yaxis.set_label_position(\"right\")\n",
    "f2.legend(loc='upper center', bbox_to_anchor=(0.6, 1.1), ncol=2, handletextpad=0.1)\n",
    "f2.set_ylabel('Probability')\n",
    "\n",
    "plt.show() "
   ]
  }
 ],
 "metadata": {
  "jupytext": {
   "encoding": "# -*- coding: utf-8 -*-"
  },
  "kernelspec": {
   "display_name": "Python 3 (Spyder)",
   "language": "python3",
   "name": "python3"
  },
  "language_info": {
   "codemirror_mode": {
    "name": "ipython",
    "version": 3
   },
   "file_extension": ".py",
   "mimetype": "text/x-python",
   "name": "python",
   "nbconvert_exporter": "python",
   "pygments_lexer": "ipython3",
   "version": "3.6.5"
  }
 },
 "nbformat": 4,
 "nbformat_minor": 2
}
