{
 "cells": [
  {
   "cell_type": "markdown",
   "metadata": {},
   "source": [
    "# Probabilistic inversion: Metropolis Algorithm"
   ]
  },
  {
   "cell_type": "markdown",
   "metadata": {},
   "source": [
    "\n",
    "This notebook shows the sampling of a probability density function (pdf) using the Metropolis algorithm, a random walk with near neighbor sampling, a Monte Carlo method. \n",
    "\n",
    "The Monte Carlo methods are named after the city in the Monaco principality, because of the roulettes in the Casinos\n",
    "(random number generator). The most common Monte Carlo sampling methods is the Metropolis sampler. The basic concept is to use random walks, a creation of a new random configuration for each step, to explore the probability density, making it go to the highest probability zones.\n",
    "\n",
    "\n",
    "**Near neighbor sampling**\n",
    "\n",
    "Given a set of points in space with a probability $p_i$ attached to every point $i$, we define random rules to select points such that the probability of selecting points is $p_i$. To avoid sampling the areas of low probability we introduce the concept of importance sampling. The near neigbor sampling limits the algorithm to walk in the neighborhood of the present point. \n",
    "\n",
    "The algorithm works as the following. At a given step, the random walker is at point $x_i$ for moving to another point $x_j$ we have to define rules. If we accept any random move the walker would sample the whole space. Instead of always accepting the transition, we reject the move sometimes. Let $f(x)$ be the probability density function:\n",
    "\n",
    " * if $f(x_j) \\geqslant f(x_i)$ $\\rightarrow$ accept the move\n",
    " * if $f(x_j) < f(x_i)$ $\\rightarrow$ then decide randomly to move to $x_j$ with the probability of accepting the move: \n",
    " $ P = \\frac{f(x_j)}{f(x_i)}$ , \n",
    " where P is the transition probability. \n",
    "\n",
    "After all the steps, we obtain the path of the walker, sampling all the arears where the probability density function has a higher value. "
   ]
  },
  {
   "cell_type": "code",
   "execution_count": null,
   "metadata": {
    "code_folding": [
     0
    ]
   },
   "outputs": [],
   "source": [
    "# Import Libraries (PLEASE RUN THIS CODE FIRST!) \n",
    "# ----------------------------------------------\n",
    "import numpy as np\n",
    "import matplotlib\n",
    "## Show Plot in The Notebook\n",
    "matplotlib.use('nbagg')\n",
    "import matplotlib.pyplot as plt\n",
    "from IPython import display\n",
    "\n",
    "from mpl_toolkits.mplot3d import Axes3D"
   ]
  },
  {
   "cell_type": "markdown",
   "metadata": {},
   "source": [
    "**PARAMETER CONFIGURATION**\n",
    "\n",
    "In this library the walker is allowed to move only within $20$% of the total size of the model space (neigh). In the case of allowing the algorithm to move on $100$% of the model space we would retrieve the Metropolis sample algorithm. "
   ]
  },
  {
   "cell_type": "code",
   "execution_count": null,
   "metadata": {
    "code_folding": [
     0
    ]
   },
   "outputs": [],
   "source": [
    "# Parameter Configuration\n",
    "# ----------------------\n",
    "\n",
    "# modified to look only in the near neighborhood\n",
    "\n",
    "# Some global parameters\n",
    "npp = 100000  #number of tries to take\n",
    "ns = 300   # number of samples to keep \n",
    "neigh=0.20  #look only within 20% of the total size of the model space"
   ]
  },
  {
   "cell_type": "markdown",
   "metadata": {},
   "source": [
    "**GENERATION OF THE PDF**\n",
    "\n",
    "Monte Carlo sampling of a probability density function, in this case it is used the function \"peaks\" from Matlab. The corresponding section can simply be replaced with the probability from a proper inverse problem (e.g. hypocenter location)"
   ]
  },
  {
   "cell_type": "code",
   "execution_count": null,
   "metadata": {
    "code_folding": [
     0
    ]
   },
   "outputs": [],
   "source": [
    "# Generate a pdf\n",
    "\n",
    "# the following steps generate a pdf; this is equivalent to the function \"peaks(n)\" in matlab\n",
    "n = 100 # number of dimension\n",
    "pdf = np.zeros( [n,n] )\n",
    "x = -3.\n",
    "for i in range(0,n):\n",
    "    y = -3.\n",
    "    for j in range(0,n):\n",
    "        pdf[j,i]=3.*(1-x)**2*np.exp(-(x**2)-(y+1)**2)-10.*(x/5-x**3-y**5)*np.exp(-x**2-y**2)-1./3*np.exp(-(x+1)**2-y**2)\n",
    "        if pdf[j,i] < 0:\n",
    "            pdf[j,i] = pdf[j,i] * (-1) # in contrast to the peaks function: all negative values are multiplied by (-1)\n",
    "        y = y + 6./(n-1)\n",
    "    x = x + 6./(n-1)\n",
    "\n",
    "pdf = pdf / pdf.sum()"
   ]
  },
  {
   "cell_type": "code",
   "execution_count": null,
   "metadata": {
    "code_folding": [
     0
    ]
   },
   "outputs": [],
   "source": [
    "# Plot the 3D plot of pdf\n",
    "# --------------------------\n",
    "\n",
    "X = np.arange(0,100 + 100./(n-1), 100./(n-1))\n",
    "Y = np.arange(0,100 + 100./(n-1), 100./(n-1))\n",
    "fig0 = plt.figure()\n",
    "ax = fig0.gca(projection='3d')\n",
    "X, Y = np.meshgrid(X, Y)\n",
    "surf = ax.plot_surface(Y, X, pdf,rstride=2, cstride=2, cmap=plt.cm.coolwarm, linewidth=0.1)\n",
    "plt.gca().invert_xaxis()\n",
    "plt.show()"
   ]
  },
  {
   "cell_type": "markdown",
   "metadata": {},
   "source": [
    "**RANDOM WALK TAKING INTO ACCOUND THE LIMITATIONS IN THE NEIGHBORHOOD**\n"
   ]
  },
  {
   "cell_type": "code",
   "execution_count": null,
   "metadata": {
    "code_folding": [
     0,
     42,
     58
    ]
   },
   "outputs": [],
   "source": [
    "# Random walk and ploting the path\n",
    "\n",
    "# find an initial vector x\n",
    "xcur = np.array([np.floor(np.random.uniform(0, n)), np.floor(np.random.uniform(0, n))])\n",
    "\n",
    "# Let s get moving\n",
    "iis = 1\n",
    "npp = 0\n",
    "xa = np.zeros([ns+1,2])\n",
    "xa[0,0] = xcur[0]\n",
    "xa[0,1] = xcur[1]\n",
    "\n",
    "## Ploting the path \n",
    "fig = plt.figure()\n",
    "f1 = fig.add_subplot(111)  \n",
    "f1.imshow(pdf.transpose(),aspect='auto',interpolation='none', animated=True)\n",
    "f1.set_xlim(0,99)\n",
    "f1.set_ylim(99,0)\n",
    "f1.set_title('Path of the random walk')\n",
    "plt.ion() #set interactive mode\n",
    "plt.show()\n",
    "\n",
    "Pa = np.zeros(ns+1)\n",
    "xnew = np.array([0.,0.])\n",
    "\n",
    "while iis <= ns:\n",
    "    npp = npp+1;   \n",
    "    #make a random choice for the next move\n",
    "    xnew = xcur + 1\n",
    "    \n",
    "    for i in range(0,2):\n",
    "        a = np.around((np.random.uniform(0, 1) - 0.5) * n * neigh) + xcur[i]\n",
    "        if a <= 0:\n",
    "            a = 0\n",
    "        if a >= n:\n",
    "            a = n-1\n",
    "        xnew[i] = a\n",
    "\n",
    "    #compare probabilities\n",
    "    Pcur = pdf[int(xcur[0]), int(xcur[1])]\n",
    "    Pnew = pdf[int(xnew[0]), int(xnew[1])]\n",
    "   \n",
    "    if Pnew >= Pcur:\n",
    "        xcur = xnew\n",
    "        xa[iis,0] = xcur[0]\n",
    "        xa[iis,1] = xcur[1]\n",
    "        Pa[iis] = Pnew\n",
    "        ##print(' Made the %i-th move to [%i,%i] (Pnew>Pold) ' %(iis, xcur[0], xcur[1]))\n",
    "        \n",
    "        # display move graphically   \n",
    "        f1.plot([xa[iis-1, 0], xa[iis,0]], [xa[iis-1, 1], xa[iis,1]],'k-')\n",
    "        f1.plot([xa[iis-1, 0], xa[iis,0]], [xa[iis-1, 1], xa[iis,1]],'k+')\n",
    "        plt.gcf().canvas.draw() #show the update\n",
    "        iis = iis + 1\n",
    "    \n",
    "    if Pnew < Pcur: \n",
    "        P = Pnew / Pcur\n",
    "        test = np.random.uniform(0,1)\n",
    "        if test <= P: \n",
    "            xcur = xnew\n",
    "            xa[iis,0] = xcur[0]\n",
    "            xa[iis,1] = xcur[1]\n",
    "            Pa[iis] = Pnew\n",
    "            ##print( ' Made the %i-th move to [%i,%i] (Pnew<Pold) ' %(iis, xcur[0], xcur[1]) )\n",
    "      \n",
    "        # display move graphically\n",
    "\n",
    "            f1.plot([xa[iis-1, 0], xa[iis,0]], [xa[iis-1, 1], xa[iis,1]],'k-')\n",
    "            f1.plot([xa[iis-1, 0], xa[iis,0]], [xa[iis-1, 1], xa[iis,1]],'k+')\n",
    "            plt.gcf().canvas.draw()  #show the update\n",
    "            iis = iis + 1\n",
    "plt.gcf().canvas.draw()"
   ]
  },
  {
   "cell_type": "code",
   "execution_count": null,
   "metadata": {
    "code_folding": [
     0
    ]
   },
   "outputs": [],
   "source": [
    "# Final sampling\n",
    "\n",
    "fig = plt.figure()\n",
    "plt.imshow(pdf.transpose(),aspect='auto', extent=[0,100,100,0],interpolation='none')\n",
    "plt.plot(xa[:,0],xa[:,1],'w+')\n",
    "plt.title('Density function')\n",
    "plt.show()"
   ]
  },
  {
   "cell_type": "markdown",
   "metadata": {},
   "source": [
    "\n"
   ]
  }
 ],
 "metadata": {
  "jupytext": {
   "encoding": "# -*- coding: utf-8 -*-"
  },
  "kernelspec": {
   "display_name": "Python 3 (Spyder)",
   "language": "python3",
   "name": "python3"
  },
  "language_info": {
   "codemirror_mode": {
    "name": "ipython",
    "version": 3
   },
   "file_extension": ".py",
   "mimetype": "text/x-python",
   "name": "python",
   "nbconvert_exporter": "python",
   "pygments_lexer": "ipython3",
   "version": "3.6.5"
  }
 },
 "nbformat": 4,
 "nbformat_minor": 2
}
